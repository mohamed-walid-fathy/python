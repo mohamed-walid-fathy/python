{
 "cells": [
  {
   "cell_type": "markdown",
   "metadata": {
    "id": "WVJ5GWeaBEhJ"
   },
   "source": [
    "# Defining and Using Functions"
   ]
  },
  {
   "cell_type": "markdown",
   "metadata": {
    "id": "ISuqD6ALBI3n"
   },
   "source": [
    "# Practical Examples"
   ]
  },
  {
   "cell_type": "markdown",
   "metadata": {
    "id": "MlZLLmxLEiSI"
   },
   "source": [
    "Calculating Average of Numbers Using Functions"
   ]
  },
  {
   "cell_type": "code",
   "execution_count": 2,
   "metadata": {},
   "outputs": [
    {
     "name": "stdout",
     "output_type": "stream",
     "text": [
      "12.0\n"
     ]
    }
   ],
   "source": [
    "def calcavg(*num):\n",
    "    return (sum(*num) / len(num))\n",
    "numsss=[4,4,4]\n",
    "print(calcavg(numsss))"
   ]
  },
  {
   "cell_type": "markdown",
   "metadata": {
    "id": "8jeuvoiUEpjn"
   },
   "source": [
    "Finding the Longest Word in a List"
   ]
  },
  {
   "cell_type": "code",
   "execution_count": 4,
   "metadata": {},
   "outputs": [
    {
     "name": "stdout",
     "output_type": "stream",
     "text": [
      "zaghloul\n"
     ]
    }
   ],
   "source": [
    "def longest(lst):\n",
    "    m = 0\n",
    "    for i in lst:\n",
    "        if m < len(i):\n",
    "            #m =len(i)\n",
    "            word=i\n",
    "    return word\n",
    "lst = [\"tamer\",\"saad\",\"zaghloul\"]\n",
    "print(longest(lst))\n",
    "    "
   ]
  },
  {
   "cell_type": "markdown",
   "metadata": {
    "id": "cdwFAkk5EsB1"
   },
   "source": [
    "Checking if a Number is Prime"
   ]
  },
  {
   "cell_type": "code",
   "execution_count": 29,
   "metadata": {},
   "outputs": [
    {
     "name": "stdout",
     "output_type": "stream",
     "text": [
      "False\n"
     ]
    }
   ],
   "source": [
    "def primecheck(n):\n",
    "    bolprime= True\n",
    "    for i in range(2, n):\n",
    "        if n%i==0:\n",
    "            bolprime= False\n",
    "    return bolprime\n",
    "print(primecheck(8))\n",
    "#futre work: Implement using LAMBDA"
   ]
  },
  {
   "cell_type": "markdown",
   "metadata": {
    "id": "pOpzkPHpEv8F"
   },
   "source": [
    "Converting Temperature Units"
   ]
  },
  {
   "cell_type": "code",
   "execution_count": 10,
   "metadata": {},
   "outputs": [
    {
     "name": "stdout",
     "output_type": "stream",
     "text": [
      "-373\n"
     ]
    }
   ],
   "source": [
    "def converttemp(temp,typ):\n",
    "    if typ.lower() =='k':\n",
    "        temp-=373\n",
    "    elif typ.lower() =='c':\n",
    "        temp+=373\n",
    "    else:\n",
    "        print(\"invalid input\")\n",
    "    return temp\n",
    "\n",
    "print(converttemp(0,'k'))\n"
   ]
  },
  {
   "cell_type": "markdown",
   "metadata": {
    "id": "VCfAXd0CEzlm"
   },
   "source": [
    "Generating a List of Squares Using List Comprehension and Functions"
   ]
  },
  {
   "cell_type": "code",
   "execution_count": 38,
   "metadata": {},
   "outputs": [
    {
     "name": "stdout",
     "output_type": "stream",
     "text": [
      "[9, 36, 81]\n"
     ]
    }
   ],
   "source": [
    "def gensquare(lst):\n",
    "    x = [i**2 for i in lst]\n",
    "    return x\n",
    "\n",
    "lst= [3,6,9]\n",
    "print(gensquare(lst))\n",
    "    "
   ]
  },
  {
   "cell_type": "markdown",
   "metadata": {
    "id": "4CXDUweUFIVl"
   },
   "source": [
    "Converting a List of Strings to Uppercase"
   ]
  },
  {
   "cell_type": "code",
   "execution_count": 33,
   "metadata": {},
   "outputs": [
    {
     "name": "stdout",
     "output_type": "stream",
     "text": [
      "['TAMER', 'SAAD', 'ZAGHLOUL']\n"
     ]
    }
   ],
   "source": [
    "def cupper(lst):\n",
    "    for i in range(len(lst)):\n",
    "        lst[i]= lst[i].upper()\n",
    "    return lst\n",
    "print(cupper([\"tamer\",\"saad\",\"zaghloul\"]))"
   ]
  },
  {
   "cell_type": "markdown",
   "metadata": {
    "id": "BpAX4EBaFLW8"
   },
   "source": [
    "Calculating the Total Price Including Tax\n"
   ]
  },
  {
   "cell_type": "code",
   "execution_count": 22,
   "metadata": {},
   "outputs": [
    {
     "name": "stdout",
     "output_type": "stream",
     "text": [
      "113.99999999999999\n"
     ]
    }
   ],
   "source": [
    "def totp(p):\n",
    "    return p*1.14\n",
    "print(totp(100))"
   ]
  },
  {
   "cell_type": "markdown",
   "metadata": {
    "id": "2Byw84lhFPAC"
   },
   "source": [
    "Finding the Minimum and Maximum Values in a List"
   ]
  },
  {
   "cell_type": "code",
   "execution_count": 34,
   "metadata": {},
   "outputs": [
    {
     "name": "stdout",
     "output_type": "stream",
     "text": [
      "(27651659, -1)\n"
     ]
    }
   ],
   "source": [
    "def findminmax(lst):\n",
    "    return max(lst), min(lst)\n",
    "    \n",
    "lst= [2,3,5,7,11,19,27651659,-1,0]\n",
    "print(findminmax(lst))"
   ]
  },
  {
   "cell_type": "markdown",
   "metadata": {
    "id": "QkJqtoOXFRcZ"
   },
   "source": [
    "Checking if a String is a Valid Email Address"
   ]
  },
  {
   "cell_type": "code",
   "execution_count": 26,
   "metadata": {},
   "outputs": [
    {
     "name": "stdout",
     "output_type": "stream",
     "text": [
      "True\n"
     ]
    }
   ],
   "source": [
    "def emailcheck(s):\n",
    "    embool= True\n",
    "    if '@' not in s:\n",
    "        embool = False\n",
    "    return embool\n",
    "print(emailcheck(\"lmao@gmail.com\"))"
   ]
  },
  {
   "cell_type": "markdown",
   "metadata": {
    "id": "wSYE2q2hFU7L"
   },
   "source": [
    "Counting the Frequency of Each Character in a String"
   ]
  },
  {
   "cell_type": "code",
   "execution_count": 35,
   "metadata": {},
   "outputs": [
    {
     "name": "stdout",
     "output_type": "stream",
     "text": [
      "{'a': 3, 'b': 2}\n"
     ]
    }
   ],
   "source": [
    "def freqcnt(s):\n",
    "    freqcntr= dict()\n",
    "    for i in range(len(s)):\n",
    "        if s[i] in freqcntr:\n",
    "            freqcntr[s[i]]+=1\n",
    "        else:\n",
    "            freqcntr[s[i]]=1\n",
    "    return freqcntr\n",
    "print(freqcnt(\"aaabb\"))"
   ]
  },
  {
   "cell_type": "code",
   "execution_count": null,
   "metadata": {},
   "outputs": [],
   "source": []
  }
 ],
 "metadata": {
  "colab": {
   "collapsed_sections": [
    "WVJ5GWeaBEhJ"
   ],
   "provenance": []
  },
  "kernelspec": {
   "display_name": "Python 3 (ipykernel)",
   "language": "python",
   "name": "python3"
  },
  "language_info": {
   "codemirror_mode": {
    "name": "ipython",
    "version": 3
   },
   "file_extension": ".py",
   "mimetype": "text/x-python",
   "name": "python",
   "nbconvert_exporter": "python",
   "pygments_lexer": "ipython3",
   "version": "3.12.7"
  }
 },
 "nbformat": 4,
 "nbformat_minor": 4
}
