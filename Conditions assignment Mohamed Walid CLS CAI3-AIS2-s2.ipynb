{
 "cells": [
  {
   "cell_type": "markdown",
   "metadata": {
    "id": "TXqaO6n1z4n_"
   },
   "source": [
    "## If Statements"
   ]
  },
  {
   "cell_type": "markdown",
   "metadata": {
    "id": "leHy4blBz8bK"
   },
   "source": [
    "Check String Length:"
   ]
  },
  {
   "cell_type": "code",
   "execution_count": 2,
   "metadata": {},
   "outputs": [
    {
     "name": "stdin",
     "output_type": "stream",
     "text": [
      "please enter a string:  2\n"
     ]
    },
    {
     "name": "stdout",
     "output_type": "stream",
     "text": [
      "thank you\n"
     ]
    }
   ],
   "source": [
    "s = input(\"please enter a string: \")\n",
    "if len(s) > 15:\n",
    "    print(\"string is too long!\")\n",
    "else:\n",
    "    print(\"thank you\")"
   ]
  },
  {
   "cell_type": "markdown",
   "metadata": {
    "id": "LmaZjDd70BmT"
   },
   "source": [
    "Check Membership in List"
   ]
  },
  {
   "cell_type": "code",
   "execution_count": 3,
   "metadata": {},
   "outputs": [
    {
     "name": "stdin",
     "output_type": "stream",
     "text": [
      "please input guest name:  saad\n"
     ]
    },
    {
     "name": "stdout",
     "output_type": "stream",
     "text": [
      "allow entry\n"
     ]
    }
   ],
   "source": [
    "members=[\"saad\", \"zaghloul\",\"hamada\", \"heshmat\"]\n",
    "guest = input(\"please input guest name: \")\n",
    "if guest in members:\n",
    "    print(\"allow entry\")\n",
    "else:\n",
    "    print(\"deny entry\")"
   ]
  },
  {
   "cell_type": "markdown",
   "metadata": {
    "id": "1i56Wlsa0FHR"
   },
   "source": [
    "Check if Variable is Not None:"
   ]
  },
  {
   "cell_type": "code",
   "execution_count": 12,
   "metadata": {},
   "outputs": [
    {
     "name": "stdin",
     "output_type": "stream",
     "text": [
      "Please enter something:  \n"
     ]
    },
    {
     "name": "stdout",
     "output_type": "stream",
     "text": [
      "empty!\n"
     ]
    }
   ],
   "source": [
    "s = input(\"Please enter something: \")\n",
    "if s.strip() == \"\":\n",
    "    print(\"empty!\")\n",
    "else:\n",
    "    print(\"not none\")"
   ]
  },
  {
   "cell_type": "markdown",
   "metadata": {
    "id": "D1jhjSzG0Klh"
   },
   "source": [
    "## If-Else Statements"
   ]
  },
  {
   "cell_type": "markdown",
   "metadata": {
    "id": "c1aoGfzF0QYX"
   },
   "source": [
    "Check Even or Odd Number"
   ]
  },
  {
   "cell_type": "code",
   "execution_count": 10,
   "metadata": {},
   "outputs": [
    {
     "name": "stdin",
     "output_type": "stream",
     "text": [
      "Please enter a number:  2\n"
     ]
    },
    {
     "name": "stdout",
     "output_type": "stream",
     "text": [
      "number is even\n"
     ]
    }
   ],
   "source": [
    "x = int(input(\"Please enter a number: \"))\n",
    "if x%2 == 0:\n",
    "    print(\"number is even\")\n",
    "else:\n",
    "    print(\"number is odd\")"
   ]
  },
  {
   "cell_type": "markdown",
   "metadata": {
    "id": "vKYqKVo30SxB"
   },
   "source": [
    "Age Verification"
   ]
  },
  {
   "cell_type": "code",
   "execution_count": 14,
   "metadata": {},
   "outputs": [
    {
     "name": "stdin",
     "output_type": "stream",
     "text": [
      "Please enter your age:  21\n"
     ]
    },
    {
     "name": "stdout",
     "output_type": "stream",
     "text": [
      "please wait, currently loading\n"
     ]
    }
   ],
   "source": [
    "x = int(input(\"Please enter your age: \"))\n",
    "if x < 18:\n",
    "    print(\"sorry you cannot access, too young\")\n",
    "else:\n",
    "    print(\"please wait, currently loading\")"
   ]
  },
  {
   "cell_type": "markdown",
   "metadata": {
    "id": "Y1gYcvNk0Vg4"
   },
   "source": [
    "Check for Empty List:"
   ]
  },
  {
   "cell_type": "code",
   "execution_count": 15,
   "metadata": {},
   "outputs": [
    {
     "name": "stdout",
     "output_type": "stream",
     "text": [
      "empty\n"
     ]
    }
   ],
   "source": [
    "list = []\n",
    "if len(list) == 0:\n",
    "    print(\"empty\")\n",
    "else:\n",
    "    print(\"non-empty\")\n",
    "\n",
    "# this code will always print empty but for the test case list=[\"saad\", \"zaghloul\",\"hamada\", \"heshmat\"], not empty"
   ]
  },
  {
   "cell_type": "markdown",
   "metadata": {
    "id": "vbvpZ8CB0YKn"
   },
   "source": [
    "Temperature Check:"
   ]
  },
  {
   "cell_type": "code",
   "execution_count": 16,
   "metadata": {},
   "outputs": [
    {
     "name": "stdin",
     "output_type": "stream",
     "text": [
      "Please enter a number:  40\n"
     ]
    },
    {
     "name": "stdout",
     "output_type": "stream",
     "text": [
      "Hot\n"
     ]
    }
   ],
   "source": [
    "x = int(input(\"Please enter a number: \"))\n",
    "if x>30:\n",
    "    print(\"Hot\")\n",
    "else:\n",
    "    print(\"not Hot\")"
   ]
  },
  {
   "cell_type": "markdown",
   "metadata": {
    "id": "wnsKtXY_0a-z"
   },
   "source": [
    "## If-Elif-Else Statements"
   ]
  },
  {
   "cell_type": "markdown",
   "metadata": {
    "id": "RKfqpFES0c78"
   },
   "source": [
    "Grading System"
   ]
  },
  {
   "cell_type": "code",
   "execution_count": 10,
   "metadata": {},
   "outputs": [
    {
     "name": "stdin",
     "output_type": "stream",
     "text": [
      "enter your grade:  -1\n"
     ]
    },
    {
     "name": "stdout",
     "output_type": "stream",
     "text": [
      "INVALID GRADE\n"
     ]
    }
   ],
   "source": [
    "grade = int(input(\"enter your grade: \"))\n",
    "if grade > 100 or grade < 0:\n",
    "    print(\"INVALID GRADE\")\n",
    "elif grade > 93:\n",
    "    print(\"Congrats you got A\")\n",
    "elif grade > 84:\n",
    "    print(\"Congrats you got B\")\n",
    "elif grade > 75:\n",
    "    print(\"you got C\")\n",
    "elif grade > 68:\n",
    "    print(\"D\")\n",
    "else:\n",
    "    print(\"F better luck next time\")"
   ]
  },
  {
   "cell_type": "markdown",
   "metadata": {
    "id": "b3AEMEpa0f2H"
   },
   "source": [
    "Traffic Light Signal"
   ]
  },
  {
   "cell_type": "code",
   "execution_count": 18,
   "metadata": {},
   "outputs": [
    {
     "name": "stdin",
     "output_type": "stream",
     "text": [
      "enter light color:  RED\n"
     ]
    },
    {
     "name": "stdout",
     "output_type": "stream",
     "text": [
      "Stop\n"
     ]
    }
   ],
   "source": [
    "light = input(\"enter light color: \")\n",
    "lowercase_light = light.lower()\n",
    "if lowercase_light == \"green\":\n",
    "    print(\"GO\")\n",
    "elif lowercase_light == \"yellow\":\n",
    "    print(\"Wait\")\n",
    "elif lowercase_light == \"red\":\n",
    "    print(\"Stop\")\n",
    "else:\n",
    "    print(\"invalid\")"
   ]
  },
  {
   "cell_type": "markdown",
   "metadata": {
    "id": "5o7eorDC0jIN"
   },
   "source": [
    "Classify Age Group"
   ]
  },
  {
   "cell_type": "code",
   "execution_count": 19,
   "metadata": {},
   "outputs": [
    {
     "name": "stdin",
     "output_type": "stream",
     "text": [
      "enter your grade:  12\n"
     ]
    },
    {
     "name": "stdout",
     "output_type": "stream",
     "text": [
      "enjoy it while you can\n"
     ]
    }
   ],
   "source": [
    "age = int(input(\"enter your grade: \"))\n",
    "if age > 120 or age < 0:\n",
    "    print(\"INVALID input\")\n",
    "elif age > 65:\n",
    "    print(\"Congrats on retirement\")\n",
    "elif age > 21:\n",
    "    print(\"Congrats you are now legally an Adult, Please check email for details on tax payments\")\n",
    "elif age > 18:\n",
    "    print(\"enjoy your driving license\")\n",
    "else:\n",
    "    print(\"enjoy it while you can\")"
   ]
  },
  {
   "cell_type": "markdown",
   "metadata": {
    "id": "g1ce4jJd0lXN"
   },
   "source": [
    "Check Temperature Range"
   ]
  },
  {
   "cell_type": "code",
   "execution_count": 29,
   "metadata": {},
   "outputs": [
    {
     "name": "stdin",
     "output_type": "stream",
     "text": [
      "enter your tempe:  90\n"
     ]
    },
    {
     "name": "stdout",
     "output_type": "stream",
     "text": [
      "INVALID input\n"
     ]
    }
   ],
   "source": [
    "temp = int(input(\"enter your tempe: \"))\n",
    "if temp > 70 or temp < -40:\n",
    "    print(\"INVALID input\")\n",
    "elif temp > 60:\n",
    "    print(\"Danger do not go outside\")\n",
    "elif temp > 45:\n",
    "    print(\"Danger do not go outside unless emergency\")\n",
    "elif temp > 40:\n",
    "    print(\"Danger do not go outside for very long periods especially in the sun\")\n",
    "elif temp > 30:\n",
    "    print(\"Hot weather\")\n",
    "elif temp > 20:\n",
    "    print(\"Spring weather\")\n",
    "elif temp > 13:\n",
    "    print(\"Please have a jacket with you if you get cold easily\")\n",
    "elif temp > 3:\n",
    "    print(\"Do not go outside without a jacket\")\n",
    "elif temp > -20:\n",
    "    print(\"SUB ZERO weather!!!!!! Please dress accordingly\")\n",
    "else:\n",
    "    print(\"SUB ZERO weather!!!!!! Do not leave your house\")"
   ]
  },
  {
   "cell_type": "markdown",
   "metadata": {
    "id": "FZ76HSBW0n__"
   },
   "source": [
    "## Nested If Statements"
   ]
  },
  {
   "cell_type": "markdown",
   "metadata": {
    "id": "9h8fiLwr0p0s"
   },
   "source": [
    "Permission Check with Age"
   ]
  },
  {
   "cell_type": "code",
   "execution_count": 35,
   "metadata": {},
   "outputs": [
    {
     "name": "stdin",
     "output_type": "stream",
     "text": [
      "Please enter your age:  7\n"
     ]
    },
    {
     "name": "stdout",
     "output_type": "stream",
     "text": [
      "You should not even be online.\n"
     ]
    }
   ],
   "source": [
    "age = int(input(\"Please enter your age: \"))\n",
    "if age < 0 or age > 120:\n",
    "    print(\"invalid input\")\n",
    "else:\n",
    "    if age < 10:\n",
    "        print(\"You should not even be online.\")\n",
    "    else:\n",
    "        if age < 18:\n",
    "            print(\"Please ask for parental permission.\")\n",
    "        else:\n",
    "            print(\"Access allowed.\")"
   ]
  },
  {
   "cell_type": "markdown",
   "metadata": {
    "id": "riT_P3Vv0sUw"
   },
   "source": [
    "Nested Condition for Shopping"
   ]
  },
  {
   "cell_type": "code",
   "execution_count": 28,
   "metadata": {},
   "outputs": [
    {
     "name": "stdin",
     "output_type": "stream",
     "text": [
      "Enter your budget:  50\n"
     ]
    },
    {
     "name": "stdout",
     "output_type": "stream",
     "text": [
      "Sorry, you cannot but it.\n"
     ]
    }
   ],
   "source": [
    "item_price = 100\n",
    "discount_percent = 20\n",
    "budget = float(input(\"Enter your budget: \"))\n",
    "discounted_price = item_price * (1 - discount_percent / 100)\n",
    "if budget >= discounted_price:\n",
    "    if discount_percent > 0:\n",
    "        print(f\"You can buy the item at a {discount_percent}% discount! Final price: ${discounted_price:.2f}\")\n",
    "    else:\n",
    "        print(\"You can buy it.\")\n",
    "else:\n",
    "    print(\"Sorry, you cannot but it.\")"
   ]
  },
  {
   "cell_type": "markdown",
   "metadata": {
    "id": "ww-f3ZBT0uZK"
   },
   "source": [
    "Nested Temperature and Time Check"
   ]
  },
  {
   "cell_type": "code",
   "execution_count": 17,
   "metadata": {},
   "outputs": [
    {
     "name": "stdin",
     "output_type": "stream",
     "text": [
      "Enter the temperature:  60\n",
      "Enter time of day (morning/afternoon/evening/night):  morning\n"
     ]
    },
    {
     "name": "stdout",
     "output_type": "stream",
     "text": [
      "Danger do not go outside unless emergency\n"
     ]
    }
   ],
   "source": [
    "temp = int(input(\"Enter the temperature: \"))\n",
    "time_of_day = input(\"Enter time of day (morning/afternoon/evening/night): \")\n",
    "timelower= time_of_day.lower()\n",
    "if temp > 70 or temp < -40:\n",
    "    print(\"INVALID INPUT\")\n",
    "else:\n",
    "    if temp > 60:\n",
    "        print(\"Danger do not go outside.\")\n",
    "        if timelower == \"afternoon\":\n",
    "            print(\"it's extremely hot in the afternoon stay indoors!!!!\")\n",
    "    else:\n",
    "        if temp > 45:\n",
    "            print(\"Danger do not go outside unless emergency\")\n",
    "            if timelower == \"afternoon\":\n",
    "                print(\"Avoid direct sunlight during this time.\")\n",
    "        else:\n",
    "            if temp > 40:\n",
    "                print(\"Danger: Do not go out in the sun for long periods\")\n",
    "                if timelower == \"morning\":\n",
    "                    print(\"If you must go out, go out early in the morning\")\n",
    "            else:\n",
    "                if temp > 30:\n",
    "                    print(\"Hot weather.\")\n",
    "                    if timelower == \"evening\":\n",
    "                        print(\"Evenings may be slightly cooler.\")\n",
    "                else:\n",
    "                    if temp > 20:\n",
    "                        print(\"Spring weather.\")\n",
    "                        if timelower == \"morning\":\n",
    "                            print(\"Perfect time for a walk/picnic/outdoor event.\")\n",
    "                    else:\n",
    "                        if temp > 13:\n",
    "                            print(\"Please bring a jacket if you get cold easily.\")\n",
    "                            if timelower == \"night\":\n",
    "                                print(\"Nights will be even colder.\")\n",
    "                        else:\n",
    "                            if temp > 3:\n",
    "                                print(\"do not go outside without a jacket.\")\n",
    "                                if timelower == \"morning\":\n",
    "                                    print(\"Mornings are very cold.\")\n",
    "                            else:\n",
    "                                if temp > -20:\n",
    "                                    print(\"SUB ZERO weather! Dress accordingly.\")\n",
    "                                    if timelower == \"night\":\n",
    "                                        print(\"Do not stay after sunset.\")\n",
    "                                else:\n",
    "                                    print(\"SUB ZERO weather! Do not leave your house.\")\n",
    "                                    if timelower == \"morning\":\n",
    "                                        print(\"If you must leave, wait until afternoon and don not be out past sunset\")"
   ]
  },
  {
   "cell_type": "markdown",
   "metadata": {
    "id": "tYIt8Gbg0xC3"
   },
   "source": [
    "Bank Account Balance Check"
   ]
  },
  {
   "cell_type": "code",
   "execution_count": 36,
   "metadata": {},
   "outputs": [
    {
     "name": "stdin",
     "output_type": "stream",
     "text": [
      "please input withdrawal amount:  500\n"
     ]
    },
    {
     "name": "stdout",
     "output_type": "stream",
     "text": [
      "Please wait while your transaction is processing\n"
     ]
    }
   ],
   "source": [
    "bal = 500\n",
    "withdraw= int(input(\"please input withdrawal amount: \"))\n",
    "pin=True\n",
    "if pin:\n",
    "    if bal >= withdraw:\n",
    "        print(\"Please wait while your transaction is processing\")\n",
    "    else:\n",
    "        print(\"Insufficient funsds\")\n",
    "else:\n",
    "    print(\"Incorrect PIN.\")"
   ]
  },
  {
   "cell_type": "code",
   "execution_count": null,
   "metadata": {},
   "outputs": [],
   "source": []
  }
 ],
 "metadata": {
  "colab": {
   "collapsed_sections": [
    "e169VtCkzw43",
    "ypOAmJMsn-KM",
    "0p6Jncqgq9cW",
    "SgsOYkstsK2K",
    "ijzaboJBtEDf",
    "c6Ft7y42zqe7",
    "TXqaO6n1z4n_",
    "D1jhjSzG0Klh",
    "wnsKtXY_0a-z",
    "FZ76HSBW0n__"
   ],
   "provenance": []
  },
  "kernelspec": {
   "display_name": "Python 3 (ipykernel)",
   "language": "python",
   "name": "python3"
  },
  "language_info": {
   "codemirror_mode": {
    "name": "ipython",
    "version": 3
   },
   "file_extension": ".py",
   "mimetype": "text/x-python",
   "name": "python",
   "nbconvert_exporter": "python",
   "pygments_lexer": "ipython3",
   "version": "3.12.7"
  }
 },
 "nbformat": 4,
 "nbformat_minor": 4
}
