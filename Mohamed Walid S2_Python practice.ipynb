{
 "cells": [
  {
   "cell_type": "markdown",
   "metadata": {
    "id": "JIX9shev5qME"
   },
   "source": [
    "#  For Loops and While Loops"
   ]
  },
  {
   "cell_type": "markdown",
   "metadata": {
    "id": "WVAot-Vr8F2U"
   },
   "source": [
    "# Large Practical Applications"
   ]
  },
  {
   "cell_type": "markdown",
   "metadata": {
    "id": "rxzeb7U98U47"
   },
   "source": [
    "Finding the Maximum Value in a List"
   ]
  },
  {
   "cell_type": "code",
   "execution_count": 1,
   "metadata": {},
   "outputs": [
    {
     "name": "stdout",
     "output_type": "stream",
     "text": [
      "99\n"
     ]
    }
   ],
   "source": [
    "l= [1,2,3,99]\n",
    "m = 0\n",
    "for i in l:\n",
    "    if i > m:\n",
    "        m = i\n",
    "print(m)"
   ]
  },
  {
   "cell_type": "markdown",
   "metadata": {
    "id": "EQPvgXIX8X87"
   },
   "source": [
    "Counting Vowels in a String"
   ]
  },
  {
   "cell_type": "code",
   "execution_count": 2,
   "metadata": {},
   "outputs": [
    {
     "name": "stdin",
     "output_type": "stream",
     "text": [
      "Please enter a string:  aaa\n"
     ]
    },
    {
     "name": "stdout",
     "output_type": "stream",
     "text": [
      "3\n"
     ]
    }
   ],
   "source": [
    "s = input(\"Please enter a string: \").lower()\n",
    "vc = 0\n",
    "for i in s:\n",
    "    if i == 'a' or i == 'e' or i == 'i' or i == 'o' or i == 'u': \n",
    "        vc+=1\n",
    "print(vc)"
   ]
  },
  {
   "cell_type": "markdown",
   "metadata": {
    "id": "W_m3FN138bJP"
   },
   "source": [
    "Finding Prime Numbers within a Range"
   ]
  },
  {
   "cell_type": "code",
   "execution_count": 4,
   "metadata": {},
   "outputs": [
    {
     "name": "stdin",
     "output_type": "stream",
     "text": [
      "please enter a number:  32\n"
     ]
    },
    {
     "name": "stdout",
     "output_type": "stream",
     "text": [
      "2\n",
      "3\n",
      "5\n",
      "7\n",
      "11\n",
      "13\n",
      "17\n",
      "19\n",
      "23\n",
      "29\n",
      "31\n"
     ]
    }
   ],
   "source": [
    "n  = int(input(\"please enter a number: \"))\n",
    "for num in range(2, n + 1):\n",
    "    prime = True\n",
    "    for i in range(2, int(num**0.5) + 1):\n",
    "        if num % i == 0:\n",
    "            prime = False\n",
    "            break\n",
    "    if prime:\n",
    "        print(num)"
   ]
  },
  {
   "cell_type": "markdown",
   "metadata": {
    "id": "fRMwGNG_8d-U"
   },
   "source": [
    "Generating a Fibonacci Sequence"
   ]
  },
  {
   "cell_type": "code",
   "execution_count": 5,
   "metadata": {},
   "outputs": [
    {
     "name": "stdin",
     "output_type": "stream",
     "text": [
      "Please enter a number:  7\n"
     ]
    },
    {
     "name": "stdout",
     "output_type": "stream",
     "text": [
      "0\n",
      "1\n",
      "1\n",
      "2\n",
      "3\n",
      "5\n",
      "8\n"
     ]
    }
   ],
   "source": [
    "lim = int(input(\"Please enter a number: \"))\n",
    "a, b = 0, 1\n",
    "print(a)\n",
    "print(b)\n",
    "for i in range(2, lim):\n",
    "    c = a + b\n",
    "    print(c)\n",
    "    a = b\n",
    "    b = c"
   ]
  },
  {
   "cell_type": "markdown",
   "metadata": {
    "id": "qq_4UdQX8hku"
   },
   "source": [
    "Simulating a Basic ATM Withdrawal"
   ]
  },
  {
   "cell_type": "code",
   "execution_count": 9,
   "metadata": {},
   "outputs": [
    {
     "name": "stdin",
     "output_type": "stream",
     "text": [
      "please enter pin: 0000\n"
     ]
    },
    {
     "name": "stdout",
     "output_type": "stream",
     "text": [
      "welcome\n"
     ]
    },
    {
     "name": "stdin",
     "output_type": "stream",
     "text": [
      "please enter the type of transaction you wish to do: t\n"
     ]
    },
    {
     "name": "stdout",
     "output_type": "stream",
     "text": [
      "invalid transaction please try again\n"
     ]
    },
    {
     "name": "stdin",
     "output_type": "stream",
     "text": [
      "please enter the type of transaction you wish to do: e\n"
     ]
    },
    {
     "name": "stdout",
     "output_type": "stream",
     "text": [
      "Thank you for banking with us\n"
     ]
    }
   ],
   "source": [
    "balance  = 900\n",
    "pin = 0000\n",
    "pintest = int(input(\"please enter pin:\"))\n",
    "if pintest == pin:\n",
    "    print(\"welcome\")\n",
    "    t = input(\"please enter the type of transaction you wish to do:\")\n",
    "    while t != 'e':\n",
    "        if t =='w':\n",
    "            n = int(input(\"please enter amount of withdrawal:\"))\n",
    "            if n > balance:\n",
    "                print(\"insufficient funds\")\n",
    "            else:\n",
    "                print(\"please wait\")\n",
    "                balance -= n\n",
    "                print(f'new balanece is: {balance}')\n",
    "        elif t == 'd':\n",
    "            n = int(input(\"please enter amount of deposit:\"))\n",
    "            if n < 0:\n",
    "                print(\"Invalid\")\n",
    "            else:\n",
    "                print(\"please wait\")\n",
    "                balance += n\n",
    "                print(f'new balane=ce is: {balance}')\n",
    "        elif t == 'c':\n",
    "            print(f'your balance is: {balance}')\n",
    "        else:\n",
    "            print(\"invalid transaction please try again\")\n",
    "        t = input(\"please enter the type of transaction you wish to do:\")\n",
    "else:\n",
    "    print(\"access denied\")\n",
    "\n",
    "\n",
    "print(\"Thank you for banking with us\")\n",
    "    "
   ]
  },
  {
   "cell_type": "markdown",
   "metadata": {
    "id": "q5tUgr588ph5"
   },
   "source": [
    "## Finding Common Elements in Two Lists"
   ]
  },
  {
   "cell_type": "code",
   "execution_count": 6,
   "metadata": {},
   "outputs": [
    {
     "name": "stdout",
     "output_type": "stream",
     "text": [
      "common: \n",
      "[1]\n"
     ]
    }
   ],
   "source": [
    "lone=[1,4,6]\n",
    "ltwo=[1,2,3]\n",
    "l = []\n",
    "for i in lone:\n",
    "    if i in ltwo:\n",
    "        l.append(i)\n",
    "\n",
    "print(\"common: \")\n",
    "print(l)"
   ]
  },
  {
   "cell_type": "markdown",
   "metadata": {
    "id": "iUcFVt0-8sKw"
   },
   "source": [
    "Calculating Factorial of a Number"
   ]
  },
  {
   "cell_type": "code",
   "execution_count": 6,
   "metadata": {},
   "outputs": [
    {
     "name": "stdin",
     "output_type": "stream",
     "text": [
      "please enter a number:  5\n"
     ]
    },
    {
     "name": "stdout",
     "output_type": "stream",
     "text": [
      "120\n"
     ]
    }
   ],
   "source": [
    "f = int(input(\"please enter a number: \"))\n",
    "fact = 1\n",
    "if f == 0:\n",
    "    print(1)\n",
    "for i in range(1,f+1):\n",
    "    fact = fact *i\n",
    "print(fact)"
   ]
  },
  {
   "cell_type": "markdown",
   "metadata": {
    "id": "EZBYYxRR8ucZ"
   },
   "source": [
    "Validating User Input with While Loop"
   ]
  },
  {
   "cell_type": "code",
   "execution_count": 12,
   "metadata": {},
   "outputs": [
    {
     "name": "stdin",
     "output_type": "stream",
     "text": [
      "please enter your student id:  w\n"
     ]
    },
    {
     "name": "stdout",
     "output_type": "stream",
     "text": [
      "invalid\n"
     ]
    },
    {
     "name": "stdin",
     "output_type": "stream",
     "text": [
      "please enter your student id:  w\n"
     ]
    },
    {
     "name": "stdout",
     "output_type": "stream",
     "text": [
      "invalid\n"
     ]
    },
    {
     "name": "stdin",
     "output_type": "stream",
     "text": [
      "please enter your student id:  w\n"
     ]
    },
    {
     "name": "stdout",
     "output_type": "stream",
     "text": [
      "invalid\n"
     ]
    },
    {
     "name": "stdin",
     "output_type": "stream",
     "text": [
      "please enter your student id:  w\n"
     ]
    },
    {
     "name": "stdout",
     "output_type": "stream",
     "text": [
      "invalid\n"
     ]
    },
    {
     "name": "stdin",
     "output_type": "stream",
     "text": [
      "please enter your student id:  w2\n"
     ]
    },
    {
     "name": "stdout",
     "output_type": "stream",
     "text": [
      "invalid\n"
     ]
    },
    {
     "name": "stdin",
     "output_type": "stream",
     "text": [
      "please enter your student id:  2\n"
     ]
    },
    {
     "name": "stdout",
     "output_type": "stream",
     "text": [
      "hello\n"
     ]
    }
   ],
   "source": [
    "sid = input(\"please enter your student id: \")\n",
    "while not sid.isdigit():\n",
    "    print(\"invalid\")\n",
    "    sid = input(\"please enter your student id: \")\n",
    "print(\"hello\")\n",
    "    "
   ]
  },
  {
   "cell_type": "markdown",
   "metadata": {
    "id": "hBepD0YT8yuj"
   },
   "source": [
    "Finding the Sum of Digits of a Number"
   ]
  },
  {
   "cell_type": "code",
   "execution_count": 7,
   "metadata": {},
   "outputs": [
    {
     "name": "stdin",
     "output_type": "stream",
     "text": [
      "please enter your number:  132\n"
     ]
    },
    {
     "name": "stdout",
     "output_type": "stream",
     "text": [
      "Sum of digits: 6\n"
     ]
    }
   ],
   "source": [
    "n = int(input(\"please enter your number: \"))\n",
    "tot = 0\n",
    "while n > 0:\n",
    "    i = n % 10 \n",
    "    tot += i\n",
    "    n = n // 10\n",
    "print(\"Sum of digits:\", tot)"
   ]
  },
  {
   "cell_type": "markdown",
   "metadata": {
    "id": "ntjLb-5C82I1"
   },
   "source": [
    "Drawing a Simple Pattern Using Loops"
   ]
  },
  {
   "cell_type": "code",
   "execution_count": 3,
   "metadata": {},
   "outputs": [
    {
     "name": "stdin",
     "output_type": "stream",
     "text": [
      "please enter the  number: 5\n"
     ]
    },
    {
     "name": "stdout",
     "output_type": "stream",
     "text": [
      "* \n",
      "* * \n",
      "* * * \n",
      "* * * * \n",
      "* * * * * \n",
      "done\n"
     ]
    }
   ],
   "source": [
    "n = int(input(\"please enter the  number:\"))\n",
    "for i in range(1,n+1):\n",
    "    for j in range(i):\n",
    "        print('*', end=\" \")\n",
    "    print()\n",
    "print(\"done\")"
   ]
  },
  {
   "cell_type": "markdown",
   "metadata": {
    "id": "83tfWnxq-aXp"
   },
   "source": [
    "Checking for Palindrome Strings"
   ]
  },
  {
   "cell_type": "code",
   "execution_count": null,
   "metadata": {},
   "outputs": [],
   "source": [
    "s= input(\"please enter string: \")\n",
    "if (s[::] == s[::-1]):\n",
    "    print(\"pali\")\n",
    "else:\n",
    "    print(\"not pali\")"
   ]
  },
  {
   "cell_type": "markdown",
   "metadata": {
    "id": "nqPKKvMB-dv1"
   },
   "source": [
    "Creating a Dictionary from Two Lists"
   ]
  },
  {
   "cell_type": "code",
   "execution_count": 20,
   "metadata": {},
   "outputs": [
    {
     "name": "stdout",
     "output_type": "stream",
     "text": [
      "{'mo': 'Depi', '7amada': 'NGU', 'mohamed': 'ENG'}\n"
     ]
    }
   ],
   "source": [
    "k = [\"mo\", \"7amada\", \"mohamed\"]\n",
    "val= [\"Depi\", \"NGU\", \"ENG\"]\n",
    "di= {}\n",
    "for i in range(len(k)):\n",
    "    di[k[i]] = val[i]\n",
    "print(di)"
   ]
  },
  {
   "cell_type": "markdown",
   "metadata": {
    "id": "eJBsRqgD-gPE"
   },
   "source": [
    "Simulating a Simple Password Check"
   ]
  },
  {
   "cell_type": "code",
   "execution_count": 2,
   "metadata": {},
   "outputs": [
    {
     "name": "stdin",
     "output_type": "stream",
     "text": [
      "please enter your password:  1\n"
     ]
    },
    {
     "name": "stdout",
     "output_type": "stream",
     "text": [
      "Try again\n"
     ]
    },
    {
     "name": "stdin",
     "output_type": "stream",
     "text": [
      "please enter your password:  1\n"
     ]
    },
    {
     "name": "stdout",
     "output_type": "stream",
     "text": [
      "Try again\n"
     ]
    },
    {
     "name": "stdin",
     "output_type": "stream",
     "text": [
      "please enter your password:  1\n"
     ]
    },
    {
     "name": "stdout",
     "output_type": "stream",
     "text": [
      "Try again\n",
      "account locked\n"
     ]
    }
   ],
   "source": [
    "password = '0000'\n",
    "wrong = 0\n",
    "while True:\n",
    "    p = input(\"please enter your password: \")\n",
    "    if p == password:\n",
    "        print(\"welcome\")\n",
    "        break\n",
    "    else:\n",
    "        wrong+=1\n",
    "        print(\"Try again\")\n",
    "    if wrong == 3:\n",
    "        print(\"account locked\")\n",
    "        break"
   ]
  },
  {
   "cell_type": "markdown",
   "metadata": {
    "id": "2IrySZdJ-qR3"
   },
   "source": [
    "Generating a Multiplication Table for a Given Number"
   ]
  },
  {
   "cell_type": "code",
   "execution_count": 22,
   "metadata": {},
   "outputs": [
    {
     "name": "stdin",
     "output_type": "stream",
     "text": [
      "please enter a number:  12\n",
      "please enter a number:  9\n"
     ]
    },
    {
     "name": "stdout",
     "output_type": "stream",
     "text": [
      "9\n",
      "18\n",
      "27\n",
      "36\n",
      "45\n",
      "54\n",
      "63\n",
      "72\n",
      "81\n",
      "90\n",
      "99\n",
      "108\n"
     ]
    }
   ],
   "source": [
    "lim = int(input(\"please enter a number: \"))\n",
    "mul = int(input(\"please enter a number: \"))\n",
    "for i in range(1, lim+1):\n",
    "    print(mul*i)"
   ]
  },
  {
   "cell_type": "code",
   "execution_count": null,
   "metadata": {},
   "outputs": [],
   "source": []
  }
 ],
 "metadata": {
  "colab": {
   "collapsed_sections": [
    "JIX9shev5qME",
    "8FdTMZd45kyk",
    "Y1vNwmhg5_L3",
    "WVAot-Vr8F2U"
   ],
   "provenance": []
  },
  "kernelspec": {
   "display_name": "Python 3 (ipykernel)",
   "language": "python",
   "name": "python3"
  },
  "language_info": {
   "codemirror_mode": {
    "name": "ipython",
    "version": 3
   },
   "file_extension": ".py",
   "mimetype": "text/x-python",
   "name": "python",
   "nbconvert_exporter": "python",
   "pygments_lexer": "ipython3",
   "version": "3.12.7"
  }
 },
 "nbformat": 4,
 "nbformat_minor": 4
}
